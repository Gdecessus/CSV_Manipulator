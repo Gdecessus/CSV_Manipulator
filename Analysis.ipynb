{
 "cells": [
  {
   "cell_type": "code",
   "execution_count": 12,
   "id": "7076092e-e89f-4631-8681-5d5844561f2d",
   "metadata": {},
   "outputs": [],
   "source": [
    "import pandas as pd\n",
    "\n",
    "INPUT_FILE = \"DarkTrace.csv\"\n",
    "OUTPUT_FILE = \"DarkTrace1.csv\"\n",
    "#RULES as follow; target1 and target is what the scriptD looks for, we can adjust this to anything.\n",
    "#newTarget as the name suggest is what we are going to change.\n",
    "RULES = {\n",
    "    'target1': 'server',\n",
    "    'target': 'vm',\n",
    "    'newTarget': 'a'\n",
    "}\n",
    "\n",
    "#here we read the csv and make sure all columns are stripped of white spaces and not case sensitive.\n",
    "df = pd.read_csv(INPUT_FILE)\n",
    "df.columns = df.columns.str.strip().str.lower()\n",
    "\n",
    "#this is a requirement that the columns exist in the csv, it's probably not mandatory,\n",
    "#but its good practice to minimize chances that the script will operate on non existent or wrong columns.\n",
    "required_columns = {'type', 'hostname',}\n",
    "if not required_columns.issubset(df.columns):\n",
    "    missing = required_columns - set(df.columns)\n",
    "    raise ValueError(f\"Missing columns: {missing}\")\n",
    "\n",
    "#we look for column 'type', we take the variable from the rules (server), we compare it wit macvendor column\n",
    "#alternatives ways of doing it below\n",
    "#(df['type'].str.strip().str.lower().str.startswith(RULES['variable'].lower())\n",
    "#(df['macvendor'].str.strip().str.lower().str.contains(RULES['target'].lower()))\n",
    "mask = (\n",
    "    (df['type'].str.strip().str.lower() == RULES['target1'].lower()) &\n",
    "    (df['hostname'].str.strip().str.lower().str.contains(RULES['target'].lower()))\n",
    ")\n",
    "# .loc takes in the paremeters from the mask, then it changes the 'type' value to our newTarget variable.\n",
    "df.loc[mask, 'type'] = RULES['newTarget']\n",
    "\n",
    "\n",
    "df.to_csv(OUTPUT_FILE, index=False)"
   ]
  },
  {
   "cell_type": "code",
   "execution_count": null,
   "id": "885e57b5-5c8d-451a-8236-62e402ae717b",
   "metadata": {},
   "outputs": [],
   "source": []
  }
 ],
 "metadata": {
  "kernelspec": {
   "display_name": "Python 3 (ipykernel)",
   "language": "python",
   "name": "python3"
  },
  "language_info": {
   "codemirror_mode": {
    "name": "ipython",
    "version": 3
   },
   "file_extension": ".py",
   "mimetype": "text/x-python",
   "name": "python",
   "nbconvert_exporter": "python",
   "pygments_lexer": "ipython3",
   "version": "3.12.7"
  }
 },
 "nbformat": 4,
 "nbformat_minor": 5
}
